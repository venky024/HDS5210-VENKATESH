{
  "cells": [
    {
      "cell_type": "markdown",
      "metadata": {
        "id": "cnHeF4CGWpBn"
      },
      "source": [
        "# Week 11 Assignment\n",
        "\n",
        "\n",
        "Please do the programming exercise and verify that your code works using the tests, then think about your final project and fill out the questions in the second part.\n",
        "\n",
        "---\n",
        "---"
      ]
    },
    {
      "cell_type": "markdown",
      "metadata": {
        "id": "KuwG_ep1WpBq"
      },
      "source": [
        "### 47.1: Filtering and summarizing data\n",
        "\n",
        "For this work, you'll find a data file in `https://hds5210-data.s3.amazonaws.com/complications_all.csv`.\n",
        "\n",
        "Read in the data file and create a variable called `mo_hospitals` that contains a data frame from the `complications_all.csv` file, filtered down to only contain those hospitals from the state of Missouri (MO).\n",
        "\n",
        "Then aggregate that data by hospital into a variable named `mo_summary`.  There are some key fields that we want to summarize:\n",
        "* We want to know the earliest date that each hospital was participating in any program\n",
        "* We want to know the latest date that each hospital stopped participating in any program\n",
        "* We want to know the total number of patients in the denominators of these programs\n",
        "\n",
        "Some things to note:\n",
        "* You will need to convert the `Start Date` and `End Date` to actual datetime fields\n",
        "* You will need to clean up and convert the `Denominator` field to just be numeric - the rule that you should use it to simply remove any records where the `Denominator` is `'Not Available'`\n",
        "\n",
        "\n",
        "The final result of this step should be a new data frame called `mo_summary` that contains one row for each hospital and contains the min start date, max end date, and total denominator.  Use the names `start_date`, `end_date`, and `number` for those columns in `mo_summary`.\n",
        "\n",
        "\n",
        "You do not need to create your code in the form of a function, just make sure your variable names match what I've described above so the tests work."
      ]
    },
    {
      "cell_type": "code",
      "execution_count": 7,
      "metadata": {
        "id": "Xts20rSXWpBs"
      },
      "outputs": [],
      "source": [
        "import pandas as pd\n",
        "# This is just to show you the name to use for the variable you need to create for this step to pass.\n",
        "all_hospitals = pd.read_csv('https://hds5210-data.s3.amazonaws.com/complications_all.csv')\n",
        "\n"
      ]
    },
    {
      "cell_type": "code",
      "execution_count": 6,
      "metadata": {
        "id": "baPmFuByWpBt"
      },
      "outputs": [],
      "source": [
        "# Do you work here and in as many cells as you need to create a variable called `mo_summary` that matches the requirements\n",
        "# Do you work here and in as many cells as you need to create a variable called `mo_summary` that matches the requirements\n",
        "mo_hospitals = all_hospitals[all_hospitals['State'] == 'MO'].copy()\n",
        "mo_hospitals['Start Date'] = pd.to_datetime(mo_hospitals['Start Date'])\n",
        "mo_hospitals['End Date'] = pd.to_datetime(mo_hospitals['End Date'])\n",
        "mo_hospitals = mo_hospitals[mo_hospitals['Denominator'] != 'Not Available'].copy()\n",
        "mo_hospitals['Denominator'] = pd.to_numeric(mo_hospitals['Denominator'])\n",
        "mo_summary = mo_hospitals.groupby('Facility Name').agg({\n",
        "    'Start Date': 'min',\n",
        "    'End Date': 'max',\n",
        "    'Denominator': 'sum'\n",
        "}).rename(columns={\n",
        "    'Start Date': 'start_date',\n",
        "    'End Date': 'end_date',\n",
        "    'Denominator': 'number'\n",
        "})"
      ]
    },
    {
      "cell_type": "code",
      "execution_count": 5,
      "metadata": {
        "id": "QiSMc_NBWpBu"
      },
      "outputs": [],
      "source": [
        "assert(mo_summary['number'].sum() == 1766908)\n",
        "assert(mo_summary['start_date'].min() == pd.Timestamp(2015,4,1))\n",
        "assert(mo_summary['end_date'].max() == pd.Timestamp(2018,6,30))\n",
        "assert(mo_summary.shape == (108,3))\n",
        "assert(mo_summary.loc['BARNES JEWISH HOSPITAL'].number == 131313)\n",
        "assert(mo_summary.loc['BOONE HOSPITAL CENTER'].number == 63099)"
      ]
    },
    {
      "cell_type": "markdown",
      "metadata": {
        "id": "v451iM20WpBu"
      },
      "source": [
        "---\n",
        "\n",
        "### 47.2 Planning your final project\n",
        "\n",
        "You should be thinking about the things we've been learning and how you can apply them to your final project.  Use the rubric to help guid your thinking and then answer the questions below.  This is meant as a guide to help you think through what you will do."
      ]
    },
    {
      "cell_type": "markdown",
      "metadata": {
        "id": "5ID2ISXPWpBv"
      },
      "source": [
        "#### A) Data Access\n",
        "\n",
        "Your project should include data from at least three distinct types of sources.  For example: AWS S3, Relational Databases, Internet, Web Services, local files.  List what data sources you're planning to use."
      ]
    },
    {
      "cell_type": "markdown",
      "metadata": {
        "id": "8EHR_-T3WpBv"
      },
      "source": [
        "**Double-click to enter your answer**\n",
        "\n",
        "Covid-19 Global Dataset - Up-to-date numbers of daily Confirmed, Death and Active cases for 218 countries - https://www.kaggle.com/datasets/josephassaker/covid19-global-dataset\n",
        "\n",
        "COVID-19 global mortality rate(by week) 2020-21 - https://www.kaggle.com/datasets/chaudharypriyanshu/covid19-global-mortality-rateby-week-202021\n",
        "\n",
        "COVID-19 Dataset: Global Data for Analysis https://www.kaggle.com/datasets/saunakghosh/covid-dataset-latest\n"
      ]
    },
    {
      "cell_type": "markdown",
      "metadata": {
        "id": "IWaLX4E-WpBw"
      },
      "source": [
        "#### B. Data Formats\n",
        "\n",
        "Your project should include data that comes in different file formats.  For example: HL7, EDI, HTML, CSV, Excel, JSON, XML.  List what data formats you're planning to use."
      ]
    },
    {
      "cell_type": "markdown",
      "metadata": {
        "id": "9pw2TwIJWpBw"
      },
      "source": [
        "**Double-click to enter your answer**\n",
        "\n",
        "I am planning to use only the CSV format\n"
      ]
    },
    {
      "cell_type": "markdown",
      "metadata": {
        "id": "Bjn2Gr1fWpBx"
      },
      "source": [
        "#### C. Objective\n",
        "\n",
        "What purpose would your project serve in a real work setting?  Take a couple of paragraphs to write down why this is an interesting product."
      ]
    },
    {
      "cell_type": "markdown",
      "metadata": {
        "id": "MzYCjqpXWpBx"
      },
      "source": [
        "**Double-click to enter your answer**\n",
        "\n",
        "Overlapping of different COVID-19 datasets into a single analysis tool would be very useful to public health, policy and healthcare decision makers as well as administrators as it offers global patterns and mortality figures. When aggregated for daily usage, with both mortality rates, and regional differences incorporated, the platform would help stakeholders in making decisions about resource allocation, policy intervention, and healthcare preparedness in situations where a pandemic occurs- additionally, with features allowing comparative analysis across regions or time frames, to determine the successful mode of mitigating the pandemic—pandemic response and public health planning would be improved.\n"
      ]
    },
    {
      "cell_type": "markdown",
      "metadata": {
        "id": "JCOgLP9nWpBx"
      },
      "source": [
        "\n",
        "\n",
        "---\n",
        "\n",
        "\n",
        "\n",
        "## Submit your work via GitHub as normal\n"
      ]
    }
  ],
  "metadata": {
    "kernelspec": {
      "display_name": "Python 3",
      "language": "python",
      "name": "python3"
    },
    "language_info": {
      "codemirror_mode": {
        "name": "ipython",
        "version": 3
      },
      "file_extension": ".py",
      "mimetype": "text/x-python",
      "name": "python",
      "nbconvert_exporter": "python",
      "pygments_lexer": "ipython3",
      "version": "3.9.16"
    },
    "colab": {
      "provenance": []
    }
  },
  "nbformat": 4,
  "nbformat_minor": 0
}