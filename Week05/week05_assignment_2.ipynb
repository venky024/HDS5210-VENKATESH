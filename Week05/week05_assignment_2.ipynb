{
  "cells": [
    {
      "cell_type": "markdown",
      "metadata": {
        "nbgrader": {
          "grade": false,
          "grade_id": "intro",
          "locked": true,
          "schema_version": 1,
          "solution": false
        },
        "id": "EHJeXajQq1ar"
      },
      "source": [
        "# Week 5 Exercises\n",
        "\n",
        "_McKinney 3.2_\n",
        "\n",
        "**Unlike in previous weeks, in the exercises below, you will need to create a function definition from scratch.  I'll provide specific instructions and examples for how it will be used, but you will have to do the work of definiging the whole function.**\n",
        "\n",
        "---\n",
        "---"
      ]
    },
    {
      "cell_type": "markdown",
      "metadata": {
        "nbgrader": {
          "grade": false,
          "grade_id": "longest",
          "locked": true,
          "schema_version": 1,
          "solution": false
        },
        "id": "7tVLGXaFq1as"
      },
      "source": [
        "### 25.1 Longest String\n",
        "\n",
        "Write a function called `longest (L)` that takes as its only parameter a list of strings.  Your function needs to find the longest of those strings and return the position number of that longest string.  An example is provided below:\n",
        "\n",
        "The longest word in that list of strings is \"birthday\" in position #1, so `longest(strings)` should return 1.\n",
        "```\n",
        ">>> strings = ['happy', 'birthday', 'to', 'me']\n",
        ">>> longest(strings)\n",
        "1\n",
        "```\n",
        "\n",
        "Be sure to include a docstring.  Include test cases in your docstring if you want to."
      ]
    },
    {
      "cell_type": "code",
      "execution_count": 28,
      "metadata": {
        "nbgrader": {
          "grade": false,
          "grade_id": "longest-answer",
          "locked": false,
          "schema_version": 1,
          "solution": true
        },
        "id": "99T-WWUmq1as"
      },
      "outputs": [],
      "source": [
        "### BEGIN SOLUTION\n",
        "\n",
        "def longest(strings):\n",
        "    \"\"\"(list) -> int\n",
        "    This function finds the longest string in the list of input strings\n",
        "    and returns the position number of that longest string.\n",
        "\n",
        "    >>> longest(['happy', 'birthday', 'to', 'me'])\n",
        "    1\n",
        "\n",
        "    >>> longest(['one', 'two', 'three', 'four'])\n",
        "    2\n",
        "    \"\"\"\n",
        "\n",
        "    longest_pos = 0\n",
        "    longest_len = 0\n",
        "\n",
        "    print(\"Position  Item         Longest So Far\")\n",
        "    print(\"--------- ------------ --------------\")\n",
        "    for position, item in enumerate(strings):\n",
        "\n",
        "        if len(item) > longest_len:\n",
        "            longest_pos = position\n",
        "            longest_len = len(item)\n",
        "        print(\"{0:9} {1:12} {2} : {3}\".format(position, item, longest_pos, longest_len))\n",
        "\n",
        "    return longest_pos\n",
        "\n",
        "### END SOLUTION\n",
        "\n"
      ]
    },
    {
      "cell_type": "code",
      "source": [
        "def longest(my_list):\n",
        "    \"\"\"(list)->int\n",
        "    Find the longest item in a list of strings and return the index for that string.\n",
        "    If there are multiple strings with the same length, return the index of the first of those longest strings.\n",
        "\n",
        "    >>> longest(['happy', 'birthday', 'to', 'me'])\n",
        "    1\n",
        "\n",
        "    >>> longest(['abc','def','ghi'])\n",
        "    0\n",
        "    \"\"\"\n",
        "\n",
        "    if type(my_list) != list:\n",
        "        raise TypeError(\"That isn't a list!\")\n",
        "\n",
        "    if len(my_list) == 0:\n",
        "        raise ValueError(\"There were no items in that list!\")\n",
        "\n",
        "    max_length = -1\n",
        "    max_index = None\n",
        "\n",
        "    for num, item in enumerate(my_list):\n",
        "        try:\n",
        "            if len(item) > max_length:\n",
        "                max_length = len(item)\n",
        "                max_index = num\n",
        "        except:\n",
        "            pass\n",
        "\n",
        "    return max_index\n"
      ],
      "metadata": {
        "id": "ulB9eZf3rb4K"
      },
      "execution_count": 29,
      "outputs": []
    },
    {
      "cell_type": "code",
      "source": [
        "longest(['happy', 'birthday', 2, 'me'])"
      ],
      "metadata": {
        "id": "WGZRJi0qr541",
        "outputId": "0668f524-e334-4974-d1b1-42c55277a62b",
        "colab": {
          "base_uri": "https://localhost:8080/"
        }
      },
      "execution_count": 30,
      "outputs": [
        {
          "output_type": "execute_result",
          "data": {
            "text/plain": [
              "1"
            ]
          },
          "metadata": {},
          "execution_count": 30
        }
      ]
    },
    {
      "cell_type": "code",
      "source": [
        "longest(['happy', 'birthday', 'to', 'me'])"
      ],
      "metadata": {
        "id": "U-V70XlpsPa8",
        "outputId": "715d91f5-6973-4b18-f0e7-8cc44263e7b9",
        "colab": {
          "base_uri": "https://localhost:8080/"
        }
      },
      "execution_count": 31,
      "outputs": [
        {
          "output_type": "execute_result",
          "data": {
            "text/plain": [
              "1"
            ]
          },
          "metadata": {},
          "execution_count": 31
        }
      ]
    },
    {
      "cell_type": "code",
      "execution_count": 32,
      "metadata": {
        "nbgrader": {
          "grade": true,
          "grade_id": "longest-tests",
          "locked": true,
          "points": 10,
          "schema_version": 1,
          "solution": false
        },
        "id": "KG5ZFwGHq1at"
      },
      "outputs": [],
      "source": [
        "assert longest(\"happy birthday to me\".split(\" \")) == 1\n",
        "assert longest(\"enjoy class\".split(\" \")) == 0\n",
        "assert longest(['when','what','where','how','who']) == 2"
      ]
    },
    {
      "cell_type": "code",
      "execution_count": 33,
      "metadata": {
        "id": "3tv4-ktdq1at",
        "outputId": "639d0675-f165-4051-e604-45a4594fd04e",
        "colab": {
          "base_uri": "https://localhost:8080/"
        }
      },
      "outputs": [
        {
          "output_type": "stream",
          "name": "stdout",
          "text": [
            "Finding tests in NoName\n",
            "Trying:\n",
            "    longest(['happy', 'birthday', 'to', 'me'])\n",
            "Expecting:\n",
            "    1\n",
            "ok\n",
            "Trying:\n",
            "    longest(['abc','def','ghi'])\n",
            "Expecting:\n",
            "    0\n",
            "ok\n"
          ]
        }
      ],
      "source": [
        "import doctest\n",
        "doctest.run_docstring_examples(longest, globals(), verbose=True)"
      ]
    },
    {
      "cell_type": "markdown",
      "metadata": {
        "id": "sZHfHVJFq1at"
      },
      "source": [
        "### 25.2 Farenheit to Celsius\n",
        "\n",
        "Write a function called f_to_c() that converts a given temperature in degrees Farenheit to degrees Celsius.  If you don't recall that conversion, it is:\n",
        "\n",
        "$ temp_c = \\frac{5}{9} \\times (temp_f - 32) $\n",
        "\n",
        "Make sure that you code is well documented using the DocString examples, and that your code includes tests for 212f, 32f, and 98.6f."
      ]
    },
    {
      "cell_type": "code",
      "execution_count": 34,
      "metadata": {
        "id": "RU1cfPpvq1at"
      },
      "outputs": [],
      "source": [
        "### BEGIN SOLUTION\n",
        "def f_to_c(temp_f):\n",
        "  return (5/9) * (temp_f - 32)\n",
        "### END SOLUTION"
      ]
    },
    {
      "cell_type": "code",
      "execution_count": 35,
      "metadata": {
        "id": "aerkH_Ygq1at"
      },
      "outputs": [],
      "source": [
        "assert f_to_c(212) == 100.0\n",
        "assert f_to_c(32) == 0.0\n",
        "assert f_to_c(98.6) == 37.0"
      ]
    },
    {
      "cell_type": "code",
      "source": [
        "f_to_c(212)"
      ],
      "metadata": {
        "id": "SWvxdw7etD5g",
        "outputId": "2a523513-252e-4565-fcf6-e923988bdf4f",
        "colab": {
          "base_uri": "https://localhost:8080/"
        }
      },
      "execution_count": 36,
      "outputs": [
        {
          "output_type": "execute_result",
          "data": {
            "text/plain": [
              "100.0"
            ]
          },
          "metadata": {},
          "execution_count": 36
        }
      ]
    },
    {
      "cell_type": "code",
      "execution_count": 37,
      "metadata": {
        "id": "UayCoyIQq1au",
        "outputId": "18997c2a-298f-4dab-9e8e-b80f7d000a20",
        "colab": {
          "base_uri": "https://localhost:8080/"
        }
      },
      "outputs": [
        {
          "output_type": "stream",
          "name": "stdout",
          "text": [
            "Finding tests in NoName\n"
          ]
        }
      ],
      "source": [
        "import doctest\n",
        "doctest.run_docstring_examples(f_to_c, globals(), verbose=True)"
      ]
    },
    {
      "cell_type": "markdown",
      "metadata": {
        "id": "I0loR5WHq1au"
      },
      "source": [
        "### 25.3 Computing Length of Stay\n",
        "\n",
        "For this problem, we have a collection of patient enounter data stored as a Python dictionary.  The `key` for the dictionary is the **encounter ID**, a code that starts with the letter `E` followed by four numbers.  The value associated with each encounter ID is another Python dictionary.  This \"inner\" dictionary holds three items: admit date, primary diagnosis, and discharge date.  See the example in the code below.\n",
        "\n",
        "You need to write a length of stay function that computes the length of stay, in whole days, between the admit date and discharge date.  However, if the diagnosis is \"Observation\" then the length of stay should always be returned as 0 regardless of the admit and discharge dates. Your function should should take three parameters: a start date, an end date, and a diagnosis.\n",
        "\n",
        "You will find it handy to refer to this example here on how to calculate the number of days between two dates: https://stackoverflow.com/questions/151199/how-to-calculate-number-of-days-between-two-given-dates"
      ]
    },
    {
      "cell_type": "code",
      "execution_count": 38,
      "metadata": {
        "id": "SlRpBQr_q1au"
      },
      "outputs": [],
      "source": [
        "from datetime import date\n",
        "\n",
        "### BEGIN SOLUTION\n",
        "def los(admit_date, discharge_date, diagnosis):\n",
        "  if diagnosis == \"Observation\":\n",
        "        return 0\n",
        "  return (discharge_date - admit_date).days\n",
        "### END SOLUTION"
      ]
    },
    {
      "cell_type": "code",
      "execution_count": 45,
      "metadata": {
        "id": "q5NYzJu5q1au"
      },
      "outputs": [],
      "source": [
        "assert los(date(2019,1,3), date(2019,1,8), \"COPD\") == 5\n",
        "assert los(date(2020,1,5), date(2020,1,8), \"Observation\") == 0"
      ]
    },
    {
      "cell_type": "code",
      "execution_count": 16,
      "metadata": {
        "id": "8KDnJRRdq1au",
        "outputId": "7d009db8-bf5e-485c-e159-540cd8e10ec6",
        "colab": {
          "base_uri": "https://localhost:8080/"
        }
      },
      "outputs": [
        {
          "output_type": "stream",
          "name": "stdout",
          "text": [
            "Finding tests in NoName\n"
          ]
        }
      ],
      "source": [
        "import doctest\n",
        "doctest.run_docstring_examples(los, globals(), verbose=True)"
      ]
    },
    {
      "cell_type": "code",
      "execution_count": 39,
      "metadata": {
        "id": "tonpU8fQq1au",
        "outputId": "04575442-1d13-43f1-a907-ac1d8730d6fc",
        "colab": {
          "base_uri": "https://localhost:8080/"
        }
      },
      "outputs": [
        {
          "output_type": "stream",
          "name": "stdout",
          "text": [
            "5\n",
            "4\n",
            "1\n",
            "0\n",
            "0\n"
          ]
        }
      ],
      "source": [
        "encounters = {\n",
        "    \"E1234\": { \"admit\": date(2019,1,3), \"diagnosis\": \"COPD\", \"discharge\": date(2019,1,8) },\n",
        "    \"E8342\": { \"admit\": date(2019,1,5), \"diagnosis\": \"Hypertension\", \"discharge\": date(2019,1,9) },\n",
        "    \"E9231\": { \"admit\": date(2019,1,12), \"diagnosis\": \"Anxiety\", \"discharge\": date(2019,1,13) },\n",
        "    \"E8333\": { \"admit\": date(2019,1,15), \"diagnosis\": \"Observation\", \"discharge\": date(2019,1,16) },\n",
        "    \"E3342\": { \"admit\": date(2019,1,4), \"diagnosis\": \"Anxiety\", \"discharge\": date(2019,1,4)}\n",
        "}\n",
        "\n",
        "\n",
        "for encid, visit in encounters.items():\n",
        "    print(los(visit['admit'],visit['discharge'],visit['diagnosis']))\n",
        "\n",
        "# Your output should be\n",
        "# 5\n",
        "# 4\n",
        "# 1\n",
        "# 0\n",
        "# 0"
      ]
    },
    {
      "cell_type": "markdown",
      "metadata": {
        "id": "R-j0vOz5q1au"
      },
      "source": [
        "---\n",
        "---\n",
        "\n",
        "### 25.4 Average Length of Stay\n",
        "\n",
        "Create a function called `average_los` that returns the average of the LOS for the encounters in the provided dictionary. The encounters must be a dictionary that contains dictionaries that each contain at least an admit date and a discharge date.\n",
        "    \n",
        "If the length of stay of any individual encounter is 0, then it will not be counted toward the average."
      ]
    },
    {
      "cell_type": "code",
      "execution_count": 41,
      "metadata": {
        "id": "ibChXfM_q1au"
      },
      "outputs": [],
      "source": [
        "test1 = {\n",
        "        \"E1234\": { \"admit\": date(2019,1,3), \"diagnosis\": \"COPD\", \"discharge\": date(2019,1,8) }\n",
        "}\n",
        "\n",
        "test2 = {\n",
        "        \"E1234\": { \"admit\": date(2019,1,3), \"diagnosis\": \"COPD\", \"discharge\": date(2019,1,8) }\n",
        "}\n",
        "### BEGIN SOLUTION\n",
        "\n",
        "\n",
        "def average_los(encounters):\n",
        "  total_los = 0\n",
        "  count = 0\n",
        "  for encounter in encounters.values():\n",
        "        los = (encounter['discharge'] - encounter['admit']).days\n",
        "        if los > 0:\n",
        "            total_los += los\n",
        "            count += 1\n",
        "\n",
        "  return total_los / count if count > 0 else 0\n",
        "\n",
        "### END SOLUTION"
      ]
    },
    {
      "cell_type": "code",
      "execution_count": 42,
      "metadata": {
        "id": "MTN_nVkTq1au"
      },
      "outputs": [],
      "source": [
        "from datetime import date\n",
        "encounters = {\n",
        "    \"E1234\": { \"admit\": date(2019,1,3), \"diagnosis\": \"COPD\", \"discharge\": date(2019,1,8) },\n",
        "    \"E8342\": { \"admit\": date(2019,1,5), \"diagnosis\": \"Hypertension\", \"discharge\": date(2019,1,9) },\n",
        "    \"E9231\": { \"admit\": date(2019,1,12), \"diagnosis\": \"Anxiety\", \"discharge\": date(2019,1,13) },\n",
        "    \"E8333\": { \"admit\": date(2019,1,15), \"diagnosis\": \"Observation\", \"discharge\": date(2019,1,16) },\n",
        "    \"E3342\": { \"admit\": date(2019,1,4), \"diagnosis\": \"Anxiety\", \"discharge\": date(2019,1,4)}\n",
        "}\n",
        "\n",
        "assert(average_los(encounters)) == 2.75"
      ]
    },
    {
      "cell_type": "code",
      "execution_count": 43,
      "metadata": {
        "id": "FWCxhdLfq1au",
        "outputId": "2b55f087-2231-4256-abc2-d06730cdb3f8",
        "colab": {
          "base_uri": "https://localhost:8080/"
        }
      },
      "outputs": [
        {
          "output_type": "stream",
          "name": "stdout",
          "text": [
            "Finding tests in NoName\n"
          ]
        }
      ],
      "source": [
        "import doctest\n",
        "doctest.run_docstring_examples(average_los, globals(), verbose=True)"
      ]
    },
    {
      "cell_type": "markdown",
      "metadata": {
        "id": "QUXbP0A6q1au"
      },
      "source": [
        "---\n",
        "\n",
        "### 25.5 Celsius to Farenheit\n",
        "\n",
        "Write your own function called `c_to_f` that converts degrees Celsius to degrees Farenheit.  Include in your solution a series of doc tests that can verify the conversion using inputs of 100, 0, and 37 degrees Celsius"
      ]
    },
    {
      "cell_type": "code",
      "execution_count": 23,
      "metadata": {
        "id": "jmWrTHIuq1au"
      },
      "outputs": [],
      "source": [
        "### BEGIN SOLUTION\n",
        "def c_to_f(celsius):\n",
        "  return (celsius * 9/5) + 32\n",
        "### END SOLUTION"
      ]
    },
    {
      "cell_type": "code",
      "execution_count": 44,
      "metadata": {
        "id": "8mFnt246q1au",
        "outputId": "8f3948c5-3fcf-4ef3-902d-42717d60c219",
        "colab": {
          "base_uri": "https://localhost:8080/"
        }
      },
      "outputs": [
        {
          "output_type": "stream",
          "name": "stdout",
          "text": [
            "Finding tests in NoName\n"
          ]
        }
      ],
      "source": [
        "import doctest\n",
        "doctest.run_docstring_examples(c_to_f, globals(), verbose=True)"
      ]
    },
    {
      "cell_type": "code",
      "execution_count": null,
      "metadata": {
        "id": "r7TUq4s1q1au"
      },
      "outputs": [],
      "source": []
    },
    {
      "cell_type": "markdown",
      "metadata": {
        "id": "-cmkjYyrq1au"
      },
      "source": [
        "---\n",
        "\n",
        "## Check your work above\n",
        "\n",
        "If you didn't get them all correct, take a few minutes to think through those that aren't correct.\n",
        "\n",
        "\n",
        "## Submitting Your Work\n",
        "\n",
        "In order to submit your work, you'll need to use the `git` command line program to **add** your homework file (this file) to your local repository, **commit** your changes to your local repository, and then **push** those changes up to github.com.  From there, I'll be able to **pull** the changes down and do my grading.  I'll provide some feedback, **commit** and **push** my comments back to you.  Next week, I'll show you how to **pull** down my comments.\n",
        "\n",
        "First run through everything one last time and submit your work:\n",
        "1. Use the `Kernel` -> `Restart Kernel and Run All Cells` menu option to run everything from top to bottom and stop here.\n",
        "2. Then open a new command line by clicking the `+` icon above the file list and chosing `Terminal`\n",
        "3. At the command line in the new Terminal, follow these steps:\n",
        "  1. Change directories to your project folder and the week03 subfolder (`cd <folder name>`)\n",
        "  2. Make sure your project folders are up to date with github.com (`git pull`)\n",
        "  3. Add the homework files for this week (`git add <file name>`)\n",
        "  4. Commit your changes (`git commit -a -m \"message\"`)\n",
        "  5. Push your changes (`git push`)\n",
        "  \n",
        "If anything fails along the way with this submission part of the process, let me know.  I'll help you troubleshoort."
      ]
    }
  ],
  "metadata": {
    "celltoolbar": "Create Assignment",
    "kernelspec": {
      "display_name": "Python 3",
      "language": "python",
      "name": "python3"
    },
    "language_info": {
      "codemirror_mode": {
        "name": "ipython",
        "version": 3
      },
      "file_extension": ".py",
      "mimetype": "text/x-python",
      "name": "python",
      "nbconvert_exporter": "python",
      "pygments_lexer": "ipython3",
      "version": "3.6.7"
    },
    "colab": {
      "provenance": []
    }
  },
  "nbformat": 4,
  "nbformat_minor": 0
}