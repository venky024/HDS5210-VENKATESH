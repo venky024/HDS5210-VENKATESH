{
  "cells": [
    {
      "cell_type": "markdown",
      "metadata": {
        "id": "rhI9W15mRbda"
      },
      "source": [
        "In this week's lectures, we talked about \"pivoting\" data between wide formats and long formats.  This is an extremely useful process when trying to understand, aggregate, and process data in different ways.  Similiar to Excel Pivot Tables, pivoting data with Pandas can help you aggregate data and look for patterns more easily.\n",
        "\n",
        "Test your knowledge of the content from the lectures through the multiple choice questions below.\n",
        "\n",
        "---\n",
        "---"
      ]
    },
    {
      "cell_type": "markdown",
      "metadata": {
        "id": "N8khhDlgRbdc"
      },
      "source": [
        "### 48.1 Which of the following functions can pivot data in Pandas from long to wide formats?\n",
        "\n",
        "> A) flatten\n",
        ">\n",
        "> B) pivot_table\n",
        ">\n",
        "> C) pivot\n",
        ">\n",
        "> D) expand"
      ]
    },
    {
      "cell_type": "code",
      "execution_count": 1,
      "metadata": {
        "id": "ZTsPjOC4Rbdc"
      },
      "outputs": [],
      "source": [
        "answers = {}\n",
        "answers['48.1'] = [\"B\", \"C\"]"
      ]
    },
    {
      "cell_type": "markdown",
      "metadata": {
        "id": "K8EuwFQ0Rbdd"
      },
      "source": [
        "### 48.2 Given the code below, what columns will the resulting data frame have?\n",
        "\n",
        "\n",
        "```python\n",
        "data.pivot(index='Txn', columns='Dept', values='Amount)\n",
        "```\n",
        "\n",
        "\n",
        "| Txn | Dept | Amount |\n",
        "|---|---|---|\n",
        "| A8739 | Finance | 10.21 |\n",
        "| A9821 | IT | 91.13 |\n",
        "| A8739 | Hospital | 11.33 |\n",
        "| AB783 | HR | 190.29 |\n",
        "| A1123 | Hospital | 98.44 |\n",
        "| A8719 | IT | 43.88 |\n",
        "\n",
        "\n",
        "> A) Dept\n",
        ">\n",
        "> B) Txn, Amount 1, Amount 2, Amount 3, Amount 4\n",
        ">\n",
        "> C) Finance, IT, HR, Hospital, Amount\n",
        ">\n",
        "> D) Txn, Finance, IT, Hospital, HR"
      ]
    },
    {
      "cell_type": "code",
      "execution_count": 2,
      "metadata": {
        "id": "x7X2VSLsRbdd"
      },
      "outputs": [],
      "source": [
        "answers['48.2'] = \"D\""
      ]
    },
    {
      "cell_type": "markdown",
      "metadata": {
        "id": "nkiSh-LeRbdd"
      },
      "source": [
        "### 49.1 Which of the following functions can stack a Pandas data frame from wide to long formats?\n",
        "\n",
        "> A) melt\n",
        ">\n",
        "> B) pivot\n",
        ">\n",
        "> C) wide_to_long\n",
        ">\n",
        "> D) stack"
      ]
    },
    {
      "cell_type": "code",
      "execution_count": 3,
      "metadata": {
        "id": "cyF3d-cORbdd"
      },
      "outputs": [],
      "source": [
        "answers['49.1'] = [\"A\", \"C\",\"D\"]"
      ]
    },
    {
      "cell_type": "markdown",
      "metadata": {
        "id": "1EGzx4HERbdd"
      },
      "source": [
        "---\n",
        "\n",
        "Checking Your Work\n",
        "---\n",
        "\n",
        "After completing your work above and running each cell, you can check your answers by running the code below.\n",
        "\n",
        "The easiest way to do this is to use the `Kernel` -> `Restart Kernel and Run All Cells` menu option. This option restarts Python and runs every cell from top to bottom until it encounters an exception of some kind.  It will stop after running the cell below and outputing a summary of how many answers you have correct or incorrect.\n"
      ]
    },
    {
      "cell_type": "code",
      "execution_count": 4,
      "metadata": {
        "id": "7Hx7dPVsRbdd",
        "outputId": "209f9984-4582-4c15-e20d-cde3dfe60898",
        "colab": {
          "base_uri": "https://localhost:8080/"
        }
      },
      "outputs": [
        {
          "output_type": "stream",
          "name": "stdout",
          "text": [
            "Question 48.1 is CORRECT\n",
            "Question 48.2 is CORRECT\n",
            "Question 49.1 is CORRECT\n"
          ]
        }
      ],
      "source": [
        "import pickle\n",
        "\n",
        "data = b'\\x80\\x04\\x956\\x00\\x00\\x00\\x00\\x00\\x00\\x00}\\x94(\\x8c\\x0448.1\\x94]\\x94(\\x8c\\x01B\\x94\\x8c\\x01C\\x94e\\x8c\\x0448.2\\x94\\x8c\\x01D\\x94\\x8c\\x0449.1\\x94]\\x94(\\x8c\\x01A\\x94h\\x04h\\x06eu.'\n",
        "result = pickle.loads(data)\n",
        "\n",
        "for key in result:\n",
        "  if answers[key] == result[key]:\n",
        "    print(f\"Question {key} is CORRECT\")\n",
        "  else:\n",
        "    print(f\"Question {key} is INCORRECT\")"
      ]
    },
    {
      "cell_type": "markdown",
      "metadata": {
        "id": "sPBkwZKDRbde"
      },
      "source": [
        "---\n",
        "\n",
        "## Check your work above\n",
        "\n",
        "If you didn't get them all correct, take a few minutes to think through those that aren't correct.\n",
        "\n",
        "\n",
        "## Submitting Your Work\n",
        "\n",
        "In order to submit your work, you'll need to save this notebook file back to GitHub.  To do that in Google Colab:\n",
        "1. File -> Save a Copy in GitHub\n",
        "2. Make sure your HDS5210 repository is selected\n",
        "3. Make sure the file name includes the week number like this: `week13/week13_assignment_1.ipynb`\n",
        "4. Add a commit message that means something\n",
        "\n",
        "**Be sure week names are lowercase and use a two digit week number!!**\n",
        "\n",
        "**Be sure you use the same file name provided by the instructor!!**\n",
        "\n"
      ]
    }
  ],
  "metadata": {
    "kernelspec": {
      "display_name": "Python 3 (ipykernel)",
      "language": "python",
      "name": "python3"
    },
    "language_info": {
      "codemirror_mode": {
        "name": "ipython",
        "version": 3
      },
      "file_extension": ".py",
      "mimetype": "text/x-python",
      "name": "python",
      "nbconvert_exporter": "python",
      "pygments_lexer": "ipython3",
      "version": "3.13.0"
    },
    "colab": {
      "provenance": []
    }
  },
  "nbformat": 4,
  "nbformat_minor": 0
}