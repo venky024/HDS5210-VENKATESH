{
  "cells": [
    {
      "cell_type": "markdown",
      "metadata": {
        "id": "SS4QH5bl3N-M"
      },
      "source": [
        "# HDS5210-2024 Midterm\n",
        "\n",
        "In the midterm, you're going to use all the programming and data management skills you've developed so far to build a risk calculator that pretends to be integrated with a clinical registry.  You'll compute the PRIEST COVID-19 Clinical Severity Score for a series of patients and, based on their risk of an adverse outcome, query a REST web service to find a hospital to transfer them to. The end result of your work will be a list of instructions on where each patient should be discharged given their risk and various characteristics of the patient.\n",
        "\n",
        "Each step in the midterm will build up to form your complete solution.\n",
        "\n",
        "**Make sure you write good docstrings and doctests along the way!!**\n",
        "\n",
        "**The midterm is due at 11:59 PM CST on Monday, October 24th.**\n",
        "\n",
        "---"
      ]
    },
    {
      "cell_type": "markdown",
      "metadata": {
        "id": "MO5465a83N-N"
      },
      "source": [
        "## Step 1: Calculate PRIEST Clinical Severity Score\n",
        "\n",
        "This scoring algorithm can be found [here on the MDCalc website](https://www.mdcalc.com/priest-covid-19-clinical-severity-score#evidence).  \n",
        "\n",
        "1. You will need to write a function called **priest()** with the following input parameters.  \n",
        " * Sex (Gender assigned at birth)\n",
        " * Age in years\n",
        " * Respiratory rate in breaths per minute\n",
        " * Oxygen saturation as a percent between 0 and 1\n",
        " * Heart rate in beats per minute\n",
        " * Systolic BP in mmHg\n",
        " * Temperature in degrees C\n",
        " * Alertness as a string description\n",
        " * Inspired Oxygen as as string description\n",
        " * Performance Status as a string description\n",
        "2. The function will need to follow the algorithm provided on the MDCalc website to compute a risk percentage that should be returned as a numeric value between 0 and 1.\n",
        "3. Be sure to use docstring documentation and at least three built-in docstring test cases.\n",
        "4. Assume that the input values that are strings could be any combination of upper or lower case. For example: 'male', 'Male', 'MALE', 'MalE' should all be interpretted by your code as male.\n",
        "5. If any of the inputs are invalid (for example a sex value that is not recognizable as male or female) your code should return None.\n",
        "\n",
        "NOTES:\n",
        "1. In the final step there is a table that translates from **PRIEST Score** to **30-day probability of an outcome** but the last two probabilities are shown as ranges (59-88% and >99%).  Our code needs to output a single number, however. For our code, use the following rule:\n",
        " * If PRIEST score is between 17 and 25, the probability you return should be 0.59\n",
        " * If PRIEST score is greater than or equal to 26, the probability you return should be 0.99\n"
      ]
    },
    {
      "cell_type": "code",
      "execution_count": 28,
      "metadata": {
        "id": "WtXNrpsc3N-O"
      },
      "outputs": [],
      "source": [
        "def priest(sex, age, respiratoryRate, oxygenSaturation, heartRate, systolicBP, temperature, alertness,\n",
        "           inspiredOxygen, performanceStatus):\n",
        "    \"\"\"\n",
        "    (string, int, float, float, float, float, float, string, string, string) -> float\n",
        "\n",
        "    Calculate the PRIEST (Pandemic Respiratory Infection Emergency System Triage) Clinical Severity Score\n",
        "    based on various clinical parameters and determine the corresponding risk of adverse outcome within 30 days.\n",
        "\n",
        "    This score helps in assessing the severity of respiratory infections in the context of a pandemic.\n",
        "\n",
        "    Parameters:\n",
        "    sex (str): Gender assigned at birth ('male' or 'female').\n",
        "    age (int): Age of the patient in years.\n",
        "    respiratory_rate (int): Respiratory rate in breaths per minute.\n",
        "    oxygen_saturation (float): Oxygen saturation as a percent between 0 and 1.\n",
        "    heart_rate (int): Heart rate in beats per minute.\n",
        "    systolic_bp (int): Systolic blood pressure in mmHg.\n",
        "    temperature (float): Temperature in degrees Celsius.\n",
        "    alertness (str): Alertness status ('alert', 'confused or not alert').\n",
        "    inspired_oxygen (str): Type of inspired oxygen ('air', 'supplemental oxygen').\n",
        "    performance_status (str): Patient's performance status.\n",
        "\n",
        "    Returns:\n",
        "    float: Risk of adverse outcome within 30 days as a probability between 0 and 1, or None for invalid input.\n",
        "\n",
        "    Examples:\n",
        "    >>> priest('female', 80, 31, 0.83, 60, 91, 35.0, 'confused or not alert', 'supplemental oxygen', 'bed/chair bound, no self-care')\n",
        "    0.59\n",
        "\n",
        "    >>> priest('male', 50, 20, 0.53, 90, 102, 19.0, 'alert', 'air', 'unrestricted normal activity')\n",
        "    0.29\n",
        "\n",
        "    >>> priest('male', 30, 20, 0.12, 52, 65, 21.0, 'alert', 'air', 'limited self-care')\n",
        "    0.46\n",
        "    \"\"\"\n",
        "# Initialize score variable\n",
        "    priestScore = 0\n",
        "\n",
        "    # Add sex score\n",
        "    sex = sex.lower()\n",
        "    if sex == 'female': priestScore += 0\n",
        "    elif sex == 'male': priestScore += 1\n",
        "    else: return None  # Return None if sex is invalid\n",
        "\n",
        "    # Add age score\n",
        "    if age < 50: priestScore += 0\n",
        "    elif 50 <= age <= 65: priestScore += 2\n",
        "    elif 66 <= age <= 80: priestScore += 3\n",
        "    else: priestScore += 4\n",
        "\n",
        "    # Add respiratory rate score\n",
        "    if respiratoryRate < 9: priestScore += 3\n",
        "    elif 9 <= respiratoryRate <= 11: priestScore += 1\n",
        "    elif 12 <= respiratoryRate <= 20: priestScore += 0\n",
        "    elif 21 <= respiratoryRate <= 24: priestScore += 2\n",
        "    elif respiratoryRate > 24: priestScore += 3\n",
        "\n",
        "    # Add oxygen saturation score\n",
        "    if oxygenSaturation > 0.95: priestScore += 0\n",
        "    elif 0.94 <= oxygenSaturation <= 0.95: priestScore += 1\n",
        "    elif 0.92 <= oxygenSaturation <= 0.93: priestScore += 2\n",
        "    else: priestScore += 3\n",
        "\n",
        "    # Add heart rate score\n",
        "    if heartRate < 41: priestScore += 3\n",
        "    elif 41 <= heartRate <= 50: priestScore += 1\n",
        "    elif 51 <= heartRate <= 90: priestScore += 0\n",
        "    elif 91 <= heartRate <= 110: priestScore += 1\n",
        "    elif 111 <= heartRate <= 130: priestScore += 2\n",
        "    else: priestScore += 3\n",
        "\n",
        "    # Add systolic BP score\n",
        "    if systolicBP < 91: priestScore += 3\n",
        "    elif 91 <= systolicBP <= 100: priestScore += 2\n",
        "    elif 101 <= systolicBP <= 110: priestScore += 1\n",
        "    elif 111 <= systolicBP <= 219: priestScore += 0\n",
        "    else: priestScore += 3\n",
        "\n",
        "    # Add temperature score\n",
        "    if temperature < 35.1: priestScore += 3\n",
        "    elif 35.1 <= temperature <= 36.0: priestScore += 1\n",
        "    elif 36.1 <= temperature <= 38.0: priestScore += 0\n",
        "    elif 38.1 <= temperature <= 39.0: priestScore += 1\n",
        "    else: priestScore += 2\n",
        "\n",
        "    # Add alertness score\n",
        "    alertness = alertness.lower()\n",
        "    if alertness == 'alert': priestScore += 0\n",
        "    else: priestScore += 3\n",
        "\n",
        "    # Add inspired oxygen score\n",
        "    inspiredOxygen = inspiredOxygen.lower()\n",
        "    if inspiredOxygen == 'air': priestScore += 0\n",
        "    elif inspiredOxygen == 'supplemental oxygen': priestScore += 2\n",
        "\n",
        "    # Add performance status score\n",
        "    performanceStatus = performanceStatus.lower()\n",
        "    if performanceStatus == 'unrestricted normal activity': priestScore += 0\n",
        "    elif performanceStatus == 'limited strenuous activity, can do light activity': priestScore += 1\n",
        "    elif performanceStatus == 'limited activity, can self-care': priestScore += 2\n",
        "    elif performanceStatus == 'limited self-care': priestScore += 3\n",
        "    elif performanceStatus == 'bed/chair bound, no self-care': priestScore += 4\n",
        "\n",
        "    # Calculate the probability based on score\n",
        "    if 0 <= priestScore <= 1: return 0.01\n",
        "    elif 2 <= priestScore <= 3: return 0.02\n",
        "    elif priestScore == 4: return 0.03\n",
        "    elif priestScore == 5: return 0.09\n",
        "    elif priestScore == 6: return 0.15\n",
        "    elif priestScore == 7: return 0.18\n",
        "    elif priestScore == 8: return 0.22\n",
        "    elif priestScore == 9: return 0.26\n",
        "    elif priestScore == 10: return 0.29\n",
        "    elif priestScore == 11: return 0.34\n",
        "    elif priestScore == 12: return 0.38\n",
        "    elif priestScore == 13: return 0.46\n",
        "    elif priestScore == 14: return 0.47\n",
        "    elif priestScore == 15: return 0.49\n",
        "    elif 16 <= priestScore <= 25: return 0.59\n",
        "    elif priestScore >= 26: return 0.99\n",
        "    else: return \"Score not found\""
      ]
    },
    {
      "cell_type": "code",
      "execution_count": 29,
      "metadata": {
        "id": "CCUoozZb3N-O",
        "outputId": "543b7e02-8fbb-420b-d332-186017fe7437",
        "colab": {
          "base_uri": "https://localhost:8080/"
        }
      },
      "outputs": [
        {
          "output_type": "stream",
          "name": "stdout",
          "text": [
            "Finding tests in NoName\n",
            "Trying:\n",
            "    priest('female', 80, 31, 0.83, 60, 91, 35.0, 'confused or not alert', 'supplemental oxygen', 'bed/chair bound, no self-care')\n",
            "Expecting:\n",
            "    0.59\n",
            "ok\n",
            "Trying:\n",
            "    priest('male', 50, 20, 0.53, 90, 102, 19.0, 'alert', 'air', 'unrestricted normal activity')\n",
            "Expecting:\n",
            "    0.29\n",
            "ok\n",
            "Trying:\n",
            "    priest('male', 30, 20, 0.12, 52, 65, 21.0, 'alert', 'air', 'limited self-care')\n",
            "Expecting:\n",
            "    0.46\n",
            "ok\n"
          ]
        }
      ],
      "source": [
        "import doctest\n",
        "doctest.run_docstring_examples(priest, globals(),verbose=True)"
      ]
    },
    {
      "cell_type": "markdown",
      "metadata": {
        "id": "dO7v1CLC3N-P"
      },
      "source": [
        "## Part 2: Find a hospital\n",
        "\n",
        "The next thing we have to do is figure out where to send this particular patient.  The guidelines on where to send a patient are based on their age (pediatric, adult, geriatric), sex, and risk percentage.  Luckily, you don't have to implement these rules. I already have. All you have to do is use a REST web service that I've created for you.\n",
        "\n",
        "You'll want to use Python to make a call to my REST web service similar to the example URL below. The first part of the URL will be the same for everyone and every request that you make. What you will need to modify for each of your requests is the information after the question mark.\n",
        "\n",
        "```\n",
        "https://oumdj6oci2.execute-api.us-east-1.amazonaws.com/prd/?age=40&sex=male&risk_pct=0.1\n",
        "```\n",
        "\n",
        "The example above asks my web service where a 40-year old male with a risk of 10% should go.  What the web service will return back is a JSON string containing the information you need.  That JSON will look like this:\n",
        "\n",
        "```json\n",
        "{\n",
        "  \"age\": \"40\",\n",
        "  \"sex\": \"male\",\n",
        "  \"risk\": \"0.1\",\n",
        "  \"hospital\": \"Southwest Hospital and Medical Center\"\n",
        "}\n",
        "```\n",
        "\n",
        "My function is not smart enough to understand `'MALE'` is the same as `'male'`.  You have to send it exactly `'male'` or `'female'`\n",
        "\n",
        "1. Your job is to write a function called **find_hospital()** that takes age, sex, and risk as parameters.\n",
        "2. Your function should call this REST web service using the `requests` module\n",
        "3. Then your function will need to interpret the JSON it gets and return just the name of the hospital\n",
        "4. If anything fails, return None\n",
        "5. Include a good docstring with at least three test cases.\n"
      ]
    },
    {
      "cell_type": "code",
      "execution_count": 31,
      "metadata": {
        "id": "Kc8HwPBF3N-P",
        "outputId": "c13b36b1-a276-4443-aad7-a286f84d9551",
        "colab": {
          "base_uri": "https://localhost:8080/"
        }
      },
      "outputs": [
        {
          "output_type": "stream",
          "name": "stdout",
          "text": [
            "Requirement already satisfied: requests in /usr/local/lib/python3.10/dist-packages (2.32.3)\n",
            "Requirement already satisfied: charset-normalizer<4,>=2 in /usr/local/lib/python3.10/dist-packages (from requests) (3.4.0)\n",
            "Requirement already satisfied: idna<4,>=2.5 in /usr/local/lib/python3.10/dist-packages (from requests) (3.10)\n",
            "Requirement already satisfied: urllib3<3,>=1.21.1 in /usr/local/lib/python3.10/dist-packages (from requests) (2.2.3)\n",
            "Requirement already satisfied: certifi>=2017.4.17 in /usr/local/lib/python3.10/dist-packages (from requests) (2024.8.30)\n"
          ]
        }
      ],
      "source": [
        "pip install requests"
      ]
    },
    {
      "cell_type": "code",
      "source": [
        "import requests\n",
        "\n",
        "def find_hospital(age, sex, risk_pct):\n",
        "    \"\"\"\n",
        "    (int, string, float) -> String\n",
        "    Calls a REST web service to determine the appropriate hospital based on age, sex, and risk percentage.\n",
        "\n",
        "    Parameters:\n",
        "    - age (int): The age of the patient.\n",
        "    - sex (str): The sex of the patient ('male' or 'female').\n",
        "    - risk_pct (float): The risk percentage as a decimal (e.g., 0.1 for 10%).\n",
        "\n",
        "    Returns:\n",
        "    - str: The name of the recommended hospital, or None if the request fails.\n",
        "\n",
        "    >>> find_hospital(83, 'male', 0.9)\n",
        "    'Wesley Woods Geriatric Hospital'\n",
        "\n",
        "    >>> find_hospital(65, 'female', 0.8)\n",
        "    'Wesley Woods Geriatric Hospital'\n",
        "\n",
        "    >>> find_hospital(32, 'male', 0.8)\n",
        "    'Emory Dunwoody Medical Center'\n",
        "\n",
        "    >>> find_hospital(20, 'female', 0.53)\n",
        "    'Emory Dunwoody Medical Center'\n",
        "    \"\"\"\n",
        "    # Constructing the URL\n",
        "    url = f\"https://oumdj6oci2.execute-api.us-east-1.amazonaws.com/prd/?age={age}&sex={sex}&risk_pct={risk_pct}\"\n",
        "\n",
        "    try:\n",
        "        # Sending a GET request to the web service\n",
        "        response = requests.get(url)\n",
        "        # Check if the request was successful\n",
        "        if response.status_code == 200:\n",
        "            # Parsing the JSON response\n",
        "            data = response.json()\n",
        "            # Returning the hospital name\n",
        "            return data.get('hospital')\n",
        "        else:\n",
        "            return None\n",
        "    except:\n",
        "        # Handle any errors that occur during the API request\n",
        "        return None"
      ],
      "metadata": {
        "id": "Vz1gXzhJ43lq"
      },
      "execution_count": 30,
      "outputs": []
    },
    {
      "cell_type": "code",
      "execution_count": 32,
      "metadata": {
        "id": "m5v0Pjck3N-P",
        "outputId": "bcd920d9-25e8-4417-bef5-d630e2f5954c",
        "colab": {
          "base_uri": "https://localhost:8080/"
        }
      },
      "outputs": [
        {
          "output_type": "stream",
          "name": "stdout",
          "text": [
            "Finding tests in NoName\n",
            "Trying:\n",
            "    find_hospital(83, 'male', 0.9)\n",
            "Expecting:\n",
            "    'Wesley Woods Geriatric Hospital'\n",
            "ok\n",
            "Trying:\n",
            "    find_hospital(65, 'female', 0.8)\n",
            "Expecting:\n",
            "    'Wesley Woods Geriatric Hospital'\n",
            "ok\n",
            "Trying:\n",
            "    find_hospital(32, 'male', 0.8)\n",
            "Expecting:\n",
            "    'Emory Dunwoody Medical Center'\n",
            "ok\n",
            "Trying:\n",
            "    find_hospital(20, 'female', 0.53)\n",
            "Expecting:\n",
            "    'Emory Dunwoody Medical Center'\n",
            "ok\n"
          ]
        }
      ],
      "source": [
        "import doctest\n",
        "doctest.run_docstring_examples(find_hospital, globals(),verbose=True)"
      ]
    },
    {
      "cell_type": "markdown",
      "metadata": {
        "id": "oSSBntp03N-P"
      },
      "source": [
        "## Part 3: Get the address for that hospital from a JSON file\n",
        "\n",
        "Great! Now we have code to tell us which hospital to send someone to... but we don't know where that hospital is. The next function we need to create is one that looks up the address of that hospital.  All of these hospitals are in Atlanta, Georgia.  We're going to use the list from this webpage to lookup the address for that hospital, based on its name.  https://www.officialusa.com/stateguides/health/hospitals/georgia.html\n",
        "\n",
        "Because we skipped the section about Beautiful Soup and working with HTML, I've converted this information into a JSON document for you.  It's available for you here.  Your code should retrieve this file using the `requests` module.\n",
        "\n",
        "`https://drive.google.com/uc?export=download&id=1fIFD-NkcdiMu941N4GjyMDWxiKsFJBw-`\n",
        "\n",
        "1. You need to create a function called **get_address()** that takes hospital name as a parameter and searches the data from this JSON file for the hospital you want to find.\n",
        "2. Your code will have to load the JSON and return the correct hospital based on name.\n",
        "3. If the hospital name isn't found, the function should return None.\n",
        "4. Be sure to use good docstring documentation and includes at least 3 test cases."
      ]
    },
    {
      "cell_type": "code",
      "execution_count": 8,
      "metadata": {
        "id": "3Xi8t6FU3N-P"
      },
      "outputs": [],
      "source": [
        "import requests\n",
        "\n",
        "def get_address(hospital_name):\n",
        "    \"\"\"\n",
        "    (string) -> String\n",
        "    Retrieves the address of a given hospital from a remote JSON file.\n",
        "\n",
        "    Parameters:\n",
        "    - hospital_name (str): The name of the hospital.\n",
        "\n",
        "    Returns:\n",
        "    - str: The address of the hospital, or None if not found.\n",
        "\n",
        "    Examples:\n",
        "        >>> get_address(\"HABERSHAM COUNTY MEDICAL CTR\")\n",
        "        '541 HISTORIC HIGHWAY 441-NORTH'\n",
        "\n",
        "        >>> get_address(\"COFFEE REGIONAL MEDICAL CENTER\")\n",
        "        '1101 OCILLA ROAD'\n",
        "\n",
        "        >>> get_address(\"CARL VINSON VA MEDICAL CENTER\")\n",
        "        'GENERAL MEDICAL AND SURGICAL HOSPITALS'\n",
        "    \"\"\"\n",
        "    url = \"https://drive.google.com/uc?export=download&id=1fIFD-NkcdiMu941N4GjyMDWxiKsFJBw-\"\n",
        "\n",
        "    try:\n",
        "        # Send a GET request to retrieve the JSON data\n",
        "        response = requests.get(url)\n",
        "        hospitals = response.json()\n",
        "\n",
        "        # Search for the hospital by name\n",
        "        if hospital_name.upper() in hospitals:\n",
        "            hospital_data = hospitals[hospital_name.upper()]\n",
        "            return f\"{hospital_data['ADDRESS']}\"\n",
        "        else:\n",
        "            return None\n",
        "    except Exception as e:\n",
        "        print(f\"Error: {e}\")\n",
        "        return None"
      ]
    },
    {
      "cell_type": "code",
      "source": [
        "import doctest\n",
        "doctest.run_docstring_examples(get_address, globals(),verbose=True)"
      ],
      "metadata": {
        "id": "JL6jwLR-5M5F",
        "outputId": "dbad594b-8443-49b0-822a-54109b1c35bf",
        "colab": {
          "base_uri": "https://localhost:8080/"
        }
      },
      "execution_count": 9,
      "outputs": [
        {
          "output_type": "stream",
          "name": "stdout",
          "text": [
            "Finding tests in NoName\n",
            "Trying:\n",
            "    get_address(\"HABERSHAM COUNTY MEDICAL CTR\")\n",
            "Expecting:\n",
            "    '541 HISTORIC HIGHWAY 441-NORTH'\n",
            "ok\n",
            "Trying:\n",
            "    get_address(\"COFFEE REGIONAL MEDICAL CENTER\")\n",
            "Expecting:\n",
            "    '1101 OCILLA ROAD'\n",
            "ok\n",
            "Trying:\n",
            "    get_address(\"CARL VINSON VA MEDICAL CENTER\")\n",
            "Expecting:\n",
            "    'GENERAL MEDICAL AND SURGICAL HOSPITALS'\n",
            "**********************************************************************\n",
            "File \"__main__\", line 21, in NoName\n",
            "Failed example:\n",
            "    get_address(\"CARL VINSON VA MEDICAL CENTER\")\n",
            "Expected:\n",
            "    'GENERAL MEDICAL AND SURGICAL HOSPITALS'\n",
            "Got:\n",
            "    '1826 VETERANS BLVD'\n"
          ]
        }
      ]
    },
    {
      "cell_type": "markdown",
      "metadata": {
        "id": "5mA56q1a3N-P"
      },
      "source": [
        "## Part 4: Run the risk calculator on a population\n",
        "\n",
        "At the link below, there is a file called `people.psv`.  It is a pipe-delimited (`|`) file with columns that match the inputs for the PRIEST calculation above.  Your code should use the `requests` module to retrieve the file from this URL.\n",
        "\n",
        "`https://drive.google.com/uc?export=download&id=1fLxJN9YGUqmqExrilxSS8furwUER5HHh`\n",
        "\n",
        "\n",
        "In addition, the file has a patient identifier in the first column.\n",
        "\n",
        "1. Write a function called **process_people()** that takes the file location above as its only parameter. Your Python program should use your code above to process all of these rows, determine the hospital and address, and return a list whose items are a dictionary like this: `{ patient_number: [sex, age, breath, o2sat, heart, systolic, temp, alertness, inspired, status, hospital, address]}`.  Look at the file in Part 5 for what the output looks like.\n",
        "2. Be sure to use good docstrings, but you don't need any tests in your doc strings.  I've provided those for you withe file in Part 5.\n",
        "\n",
        "\n",
        "**NOTE** that when running your code for all the 100 records in the `people.psv` file, it may take a few minutes to complete.  You're making multiple calls to the internet for each record, so that can take a little while.\n"
      ]
    },
    {
      "cell_type": "code",
      "execution_count": 33,
      "metadata": {
        "id": "zLvgO9qG3N-Q",
        "outputId": "c5163f1d-e19f-40ae-8067-034b1a1b1124",
        "colab": {
          "base_uri": "https://localhost:8080/"
        }
      },
      "outputs": [
        {
          "output_type": "stream",
          "name": "stdout",
          "text": [
            "[{'E9559': ['FEMALE', 40, 24.0, 0.96, 105.0, 115, 34.9, 'ALERT', 'AIR', 'unrestricted normal activity', 'Select Specialty Hospital - Northeast Atlanta', '1821 CLIFTON ROAD NE']}, {'E9385': ['Female', 51, 19.0, 0.99, 90.0, 91, 38.1, 'ALERT', 'supplemental oxygen', 'unrestricted normal activity', 'Select Specialty Hospital - Northeast Atlanta', '1821 CLIFTON ROAD NE']}, {'E3067': ['female', 40, 29.0, 0.96, 105.0, 95, 38.1, 'ALERT', 'air', 'unrestricted normal activity', 'Select Specialty Hospital - Northeast Atlanta', '1821 CLIFTON ROAD NE']}, {'E9422': ['FEMALE', 66, 19.0, 0.96, 135.0, 115, 38.1, 'ALERT', 'AIR', 'bed/chair bound, no self-care', 'Wesley Woods Geriatric Hospital', '1821 CLIFTON ROAD, NE']}, {'E8661': ['MALE', 18, 22.0, 0.95, 105.0, 115, 36.3, 'Confused or Not Alert', 'air', 'unrestricted normal activity', 'Southwest Hospital and Medical Center', '501 FAIRBURN ROAD SW']}, {'E6235': ['Male', 16, 23.0, 0.96, 135.0, 115, 39.2, 'ALERT', 'supplemental oxygen', 'unrestricted normal activity', 'Childrens Healthcare of Atlanta at Scottish Rite', '1001 JOHNSON FERRY RD']}, {'E4451': ['MALE', 40, 8.0, 0.96, 135.0, 115, 38.1, 'ALERT', 'AIR', 'unrestricted normal activity', 'Southwest Hospital and Medical Center', '501 FAIRBURN ROAD SW']}, {'E8433': ['FEMALE', 40, 23.0, 0.99, 89.0, 91, 38.1, 'ALERT', 'AIR', 'limited self-care', 'Select Specialty Hospital - Northeast Atlanta', '1821 CLIFTON ROAD NE']}, {'E7593': ['FEMALE', 80, 23.0, 0.96, 105.0, 115, 38.1, 'ALERT', 'supplemental oxygen', 'limited activity, can self-care', 'Wesley Woods Geriatric Hospital', '1821 CLIFTON ROAD, NE']}, {'E3296': ['MALE', 51, 23.0, 0.95, 105.0, 115, 38.1, 'ALERT', 'AIR', 'unrestricted normal activity', 'Southwest Hospital and Medical Center', '501 FAIRBURN ROAD SW']}, {'E4157': ['FEMALE', 40, 23.0, 0.96, 41.0, 115, 35.4, 'ALERT', 'AIR', 'unrestricted normal activity', 'Select Specialty Hospital - Northeast Atlanta', '1821 CLIFTON ROAD NE']}, {'E7702': ['FEMALE', 40, 22.0, 0.96, 105.0, 115, 38.1, 'ALERT', 'supplemental oxygen', 'unrestricted normal activity', 'Select Specialty Hospital - Northeast Atlanta', '1821 CLIFTON ROAD NE']}, {'E8158': ['MALE', 40, 20.0, 0.99, 135.0, 115, 39.2, 'ALERT', 'AIR', 'unrestricted normal activity', 'Southwest Hospital and Medical Center', '501 FAIRBURN ROAD SW']}, {'E4795': ['female', 80, 11.0, 0.93, 105.0, 95, 40.8, 'ALERT', 'AIR', 'limited activity, can self-care', 'Wesley Woods Geriatric Hospital', '1821 CLIFTON ROAD, NE']}, {'E8800': ['MALE', 80, 22.0, 0.96, 105.0, 115, 39.2, 'confused or not alert', 'AIR', 'limited activity, can self-care', 'Wesley Woods Geriatric Hospital', '1821 CLIFTON ROAD, NE']}, {'E4855': ['female', 51, 23.0, 0.94, 135.0, 115, 38.1, 'ALERT', 'AIR', 'limited strenuous activity, can do light activity', 'Select Specialty Hospital - Northeast Atlanta', '1821 CLIFTON ROAD NE']}, {'E9691': ['Male', 16, 10.0, 0.96, 105.0, 115, 38.1, 'ALERT', 'AIR', 'unrestricted normal activity', 'Childrens Healthcare of Atlanta at Scottish Rite', '1001 JOHNSON FERRY RD']}, {'E4535': ['FEMALE', 19, 11.0, 0.99, 105.0, 115, 35.4, 'ALERT', 'AIR', 'unrestricted normal activity', 'Select Specialty Hospital - Northeast Atlanta', '1821 CLIFTON ROAD NE']}, {'E2360': ['Male', 40, 20.0, 0.96, 51.0, 95, 34.9, 'alert', 'supplemental oxygen', 'unrestricted normal activity', 'Southwest Hospital and Medical Center', '501 FAIRBURN ROAD SW']}, {'E3447': ['MALE', 80, 22.0, 0.96, 41.0, 115, 38.1, 'ALERT', 'AIR', 'limited activity, can self-care', 'Wesley Woods Geriatric Hospital', '1821 CLIFTON ROAD, NE']}, {'E8208': ['FEMALE', 18, 23.0, 0.96, 135.0, 115, 38.1, 'ALERT', 'AIR', 'unrestricted normal activity', 'Select Specialty Hospital - Northeast Atlanta', '1821 CLIFTON ROAD NE']}, {'E4428': ['FEMALE', 40, 23.0, 0.96, 38.0, 115, 36.3, 'ALERT', 'AIR', 'unrestricted normal activity', 'Select Specialty Hospital - Northeast Atlanta', '1821 CLIFTON ROAD NE']}, {'E2766': ['Male', 18, 23.0, 0.96, 105.0, 115, 34.9, 'ALERT', 'AIR', 'unrestricted normal activity', 'Southwest Hospital and Medical Center', '501 FAIRBURN ROAD SW']}, {'E3888': ['FEMALE', 51, 19.0, 0.96, 135.0, 115, 34.9, 'ALERT', 'AIR', 'unrestricted normal activity', 'Select Specialty Hospital - Northeast Atlanta', '1821 CLIFTON ROAD NE']}, {'E7110': ['female', 85, 24.0, 0.99, 105.0, 101, 40.8, 'Confused or Not Alert', 'AIR', 'unrestricted normal activity', 'Wesley Woods Geriatric Hospital', '1821 CLIFTON ROAD, NE']}, {'E2668': ['FEMALE', 18, 22.0, 0.96, 105.0, 101, 38.1, 'ALERT', 'AIR', 'unrestricted normal activity', 'Select Specialty Hospital - Northeast Atlanta', '1821 CLIFTON ROAD NE']}, {'E8482': ['Male', 40, 22.0, 0.96, 105.0, 230, 36.3, 'ALERT', 'AIR', 'limited self-care', 'Southwest Hospital and Medical Center', '501 FAIRBURN ROAD SW']}, {'E9619': ['FEMALE', 40, 11.0, 0.98, 41.0, 115, 38.1, 'ALERT', 'AIR', 'unrestricted normal activity', 'Select Specialty Hospital - Northeast Atlanta', '1821 CLIFTON ROAD NE']}, {'E1700': ['male', 40, 23.0, 0.96, 105.0, 115, 38.1, 'Confused or Not Alert', 'AIR', 'unrestricted normal activity', 'Southwest Hospital and Medical Center', '501 FAIRBURN ROAD SW']}, {'E8585': ['MALE', 19, 8.0, 0.96, 105.0, 115, 36.3, 'alert', 'AIR', 'bed/chair bound, no self-care', 'Southwest Hospital and Medical Center', '501 FAIRBURN ROAD SW']}, {'E8633': ['FEMALE', 40, 22.0, 0.96, 38.0, 91, 35.4, 'ALERT', 'AIR', 'unrestricted normal activity', 'Select Specialty Hospital - Northeast Atlanta', '1821 CLIFTON ROAD NE']}, {'E2117': ['FEMALE', 16, 22.0, 0.96, 135.0, 115, 39.2, 'Confused or Not Alert', 'supplemental oxygen', 'bed/chair bound, no self-care', 'Hughes Spalding Childrens Hospital', '1711 TULLIE CIRCLE NE']}, {'E2322': ['female', 18, 22.0, 0.96, 105.0, 115, 38.1, 'alert', 'supplemental oxygen', 'unrestricted normal activity', 'Select Specialty Hospital - Northeast Atlanta', '1821 CLIFTON ROAD NE']}, {'E6912': ['FEMALE', 51, 23.0, 0.96, 105.0, 95, 34.9, 'ALERT', 'AIR', 'unrestricted normal activity', 'Select Specialty Hospital - Northeast Atlanta', '1821 CLIFTON ROAD NE']}, {'E5702': ['Male', 80, 23.0, 0.96, 135.0, 115, 38.1, 'ALERT', 'AIR', 'unrestricted normal activity', 'Wesley Woods Geriatric Hospital', '1821 CLIFTON ROAD, NE']}, {'E5513': ['FEMALE', 18, 12.0, 0.96, 105.0, 115, 38.1, 'ALERT', 'AIR', 'unrestricted normal activity', 'Select Specialty Hospital - Northeast Atlanta', '1821 CLIFTON ROAD NE']}, {'E1861': ['FEMALE', 18, 22.0, 0.96, 105.0, 230, 38.1, 'ALERT', 'AIR', 'limited strenuous activity, can do light activity', 'Select Specialty Hospital - Northeast Atlanta', '1821 CLIFTON ROAD NE']}, {'E4809': ['FEMALE', 40, 22.0, 0.96, 41.0, 230, 38.1, 'ALERT', 'AIR', 'unrestricted normal activity', 'Select Specialty Hospital - Northeast Atlanta', '1821 CLIFTON ROAD NE']}, {'E1365': ['MALE', 22, 22.0, 0.96, 115.0, 101, 35.4, 'ALERT', 'AIR', 'bed/chair bound, no self-care', 'Emory Dunwoody Medical Center', '4500 NORTH SHALLOWFORD ROAD']}, {'E5984': ['Male', 40, 12.0, 0.93, 105.0, 91, 35.1, 'ALERT', 'AIR', 'limited activity, can self-care', 'Southwest Hospital and Medical Center', '501 FAIRBURN ROAD SW']}, {'E7013': ['FEMALE', 66, 23.0, 0.96, 135.0, 89, 40.8, 'ALERT', 'supplemental oxygen', 'unrestricted normal activity', 'Wesley Woods Geriatric Hospital', '1821 CLIFTON ROAD, NE']}, {'E2331': ['female', 18, 23.0, 0.98, 105.0, 115, 38.1, 'ALERT', 'AIR', 'limited self-care', 'Select Specialty Hospital - Northeast Atlanta', '1821 CLIFTON ROAD NE']}, {'E9938': ['MALE', 18, 12.0, 0.96, 105.0, 89, 35.1, 'ALERT', 'AIR', 'unrestricted normal activity', 'Southwest Hospital and Medical Center', '501 FAIRBURN ROAD SW']}, {'E5121': ['Female', 18, 23.0, 0.96, 41.0, 95, 38.1, 'ALERT', 'supplemental oxygen', 'limited activity, can self-care', 'Select Specialty Hospital - Northeast Atlanta', '1821 CLIFTON ROAD NE']}, {'E9280': ['male', 65, 10.0, 0.96, 135.0, 91, 38.1, 'ALERT', 'AIR', 'unrestricted normal activity', 'Wesley Woods Geriatric Hospital', '1821 CLIFTON ROAD, NE']}, {'E4762': ['FEMALE', 40, 12.0, 0.98, 105.0, 95, 38.1, 'ALERT', 'AIR', 'unrestricted normal activity', 'Select Specialty Hospital - Northeast Atlanta', '1821 CLIFTON ROAD NE']}, {'E6885': ['MALE', 18, 23.0, 0.93, 89.0, 115, 35.1, 'confused or not alert', 'AIR', 'limited activity, can self-care', 'Emory Dunwoody Medical Center', '4500 NORTH SHALLOWFORD ROAD']}, {'E1695': ['FEMALE', 40, 22.0, 0.96, 41.0, 115, 38.1, 'ALERT', 'AIR', 'unrestricted normal activity', 'Select Specialty Hospital - Northeast Atlanta', '1821 CLIFTON ROAD NE']}, {'E9658': ['Female', 18, 10.0, 0.96, 90.0, 230, 38.1, 'ALERT', 'AIR', 'limited self-care', 'Select Specialty Hospital - Northeast Atlanta', '1821 CLIFTON ROAD NE']}, {'E1961': ['FEMALE', 65, 23.0, 0.96, 105.0, 115, 40.8, 'ALERT', 'AIR', 'limited activity, can self-care', 'Wesley Woods Geriatric Hospital', '1821 CLIFTON ROAD, NE']}, {'E9154': ['FEMALE', 66, 8.0, 0.94, 105.0, 89, 35.4, 'alert', 'AIR', 'bed/chair bound, no self-care', 'Wesley Woods Geriatric Hospital', '1821 CLIFTON ROAD, NE']}, {'E9417': ['FEMALE', 40, 23.0, 0.96, 105.0, 95, 38.1, 'alert', 'AIR', 'unrestricted normal activity', 'Select Specialty Hospital - Northeast Atlanta', '1821 CLIFTON ROAD NE']}, {'E9979': ['Male', 18, 8.0, 0.96, 105.0, 115, 38.1, 'ALERT', 'AIR', 'limited strenuous activity, can do light activity', 'Southwest Hospital and Medical Center', '501 FAIRBURN ROAD SW']}, {'E9316': ['MALE', 18, 23.0, 0.96, 135.0, 115, 38.1, 'ALERT', 'AIR', 'unrestricted normal activity', 'Southwest Hospital and Medical Center', '501 FAIRBURN ROAD SW']}, {'E8146': ['Male', 18, 12.0, 0.96, 115.0, 115, 38.1, 'ALERT', 'AIR', 'unrestricted normal activity', 'Southwest Hospital and Medical Center', '501 FAIRBURN ROAD SW']}, {'E3093': ['female', 40, 29.0, 0.96, 105.0, 95, 38.1, 'ALERT', 'AIR', 'unrestricted normal activity', 'Select Specialty Hospital - Northeast Atlanta', '1821 CLIFTON ROAD NE']}, {'E8829': ['male', 65, 12.0, 0.96, 51.0, 230, 38.1, 'alert', 'AIR', 'unrestricted normal activity', 'Wesley Woods Geriatric Hospital', '1821 CLIFTON ROAD, NE']}, {'E1453': ['male', 18, 24.0, 0.99, 105.0, 115, 38.1, 'ALERT', 'AIR', 'unrestricted normal activity', 'Southwest Hospital and Medical Center', '501 FAIRBURN ROAD SW']}, {'E5777': ['female', 66, 23.0, 0.96, 115.0, 89, 38.1, 'ALERT', 'AIR', 'limited strenuous activity, can do light activity', 'Wesley Woods Geriatric Hospital', '1821 CLIFTON ROAD, NE']}, {'E4564': ['FEMALE', 18, 24.0, 0.96, 41.0, 115, 35.1, 'confused or not alert', 'AIR', 'unrestricted normal activity', 'Select Specialty Hospital - Northeast Atlanta', '1821 CLIFTON ROAD NE']}, {'E1904': ['FEMALE', 40, 22.0, 0.93, 38.0, 95, 38.1, 'Confused or Not Alert', 'AIR', 'unrestricted normal activity', 'Emory Dunwoody Medical Center', '4500 NORTH SHALLOWFORD ROAD']}, {'E8746': ['Female', 40, 12.0, 0.93, 105.0, 115, 38.1, 'ALERT', 'AIR', 'unrestricted normal activity', 'Select Specialty Hospital - Northeast Atlanta', '1821 CLIFTON ROAD NE']}, {'E9165': ['FEMALE', 19, 22.0, 0.98, 50.0, 95, 38.1, 'ALERT', 'AIR', 'limited activity, can self-care', 'Select Specialty Hospital - Northeast Atlanta', '1821 CLIFTON ROAD NE']}, {'E9305': ['FEMALE', 40, 8.0, 0.89, 105.0, 101, 38.1, 'ALERT', 'supplemental oxygen', 'unrestricted normal activity', 'Emory Dunwoody Medical Center', '4500 NORTH SHALLOWFORD ROAD']}, {'E3217': ['Female', 40, 10.0, 0.95, 105.0, 95, 38.1, 'ALERT', 'AIR', 'unrestricted normal activity', 'Select Specialty Hospital - Northeast Atlanta', '1821 CLIFTON ROAD NE']}, {'E3127': ['Female', 40, 8.0, 0.96, 38.0, 115, 36.3, 'ALERT', 'AIR', 'limited strenuous activity, can do light activity', 'Select Specialty Hospital - Northeast Atlanta', '1821 CLIFTON ROAD NE']}, {'E7501': ['female', 18, 23.0, 0.96, 135.0, 115, 38.1, 'ALERT', 'AIR', 'unrestricted normal activity', 'Select Specialty Hospital - Northeast Atlanta', '1821 CLIFTON ROAD NE']}, {'E4997': ['female', 40, 23.0, 0.94, 105.0, 115, 36.3, 'ALERT', 'AIR', 'unrestricted normal activity', 'Select Specialty Hospital - Northeast Atlanta', '1821 CLIFTON ROAD NE']}, {'E6181': ['female', 19, 23.0, 0.96, 89.0, 115, 38.1, 'ALERT', 'AIR', 'unrestricted normal activity', 'Select Specialty Hospital - Northeast Atlanta', '1821 CLIFTON ROAD NE']}, {'E1073': ['FEMALE', 18, 24.0, 0.95, 50.0, 115, 38.1, 'Confused or Not Alert', 'AIR', 'limited self-care', 'Emory Dunwoody Medical Center', '4500 NORTH SHALLOWFORD ROAD']}, {'E9608': ['female', 80, 12.0, 0.96, 50.0, 89, 38.1, 'ALERT', 'AIR', 'unrestricted normal activity', 'Wesley Woods Geriatric Hospital', '1821 CLIFTON ROAD, NE']}, {'E7663': ['FEMALE', 18, 11.0, 0.96, 105.0, 115, 38.1, 'ALERT', 'air', 'limited self-care', 'Select Specialty Hospital - Northeast Atlanta', '1821 CLIFTON ROAD NE']}, {'E7648': ['female', 66, 12.0, 0.98, 41.0, 115, 34.9, 'ALERT', 'air', 'unrestricted normal activity', 'Wesley Woods Geriatric Hospital', '1821 CLIFTON ROAD, NE']}, {'E1883': ['male', 40, 10.0, 0.98, 105.0, 115, 38.1, 'ALERT', 'AIR', 'unrestricted normal activity', 'Southwest Hospital and Medical Center', '501 FAIRBURN ROAD SW']}, {'E2001': ['FEMALE', 18, 12.0, 0.99, 51.0, 115, 38.1, 'Confused or Not Alert', 'AIR', 'unrestricted normal activity', 'Select Specialty Hospital - Northeast Atlanta', '1821 CLIFTON ROAD NE']}, {'E2418': ['male', 18, 20.0, 0.94, 105.0, 115, 35.4, 'ALERT', 'air', 'unrestricted normal activity', 'Southwest Hospital and Medical Center', '501 FAIRBURN ROAD SW']}, {'E3739': ['Male', 85, 10.0, 0.96, 105.0, 115, 38.1, 'Confused or Not Alert', 'supplemental oxygen', 'unrestricted normal activity', 'Wesley Woods Geriatric Hospital', '1821 CLIFTON ROAD, NE']}, {'E8351': ['FEMALE', 40, 23.0, 0.96, 90.0, 101, 38.1, 'ALERT', 'AIR', 'unrestricted normal activity', 'Select Specialty Hospital - Northeast Atlanta', '1821 CLIFTON ROAD NE']}, {'E2882': ['Male', 51, 24.0, 0.98, 105.0, 91, 38.1, 'ALERT', 'AIR', 'unrestricted normal activity', 'Southwest Hospital and Medical Center', '501 FAIRBURN ROAD SW']}, {'E1902': ['Female', 85, 22.0, 0.96, 105.0, 115, 38.1, 'ALERT', 'supplemental oxygen', 'unrestricted normal activity', 'Wesley Woods Geriatric Hospital', '1821 CLIFTON ROAD, NE']}, {'E2155': ['Male', 18, 22.0, 0.94, 105.0, 115, 38.1, 'ALERT', 'air', 'limited self-care', 'Southwest Hospital and Medical Center', '501 FAIRBURN ROAD SW']}, {'E4345': ['Female', 40, 19.0, 0.89, 41.0, 115, 34.9, 'ALERT', 'air', 'unrestricted normal activity', 'Select Specialty Hospital - Northeast Atlanta', '1821 CLIFTON ROAD NE']}, {'E4194': ['FEMALE', 40, 12.0, 0.95, 105.0, 91, 38.1, 'ALERT', 'AIR', 'limited self-care', 'Select Specialty Hospital - Northeast Atlanta', '1821 CLIFTON ROAD NE']}, {'E5211': ['male', 65, 22.0, 0.96, 41.0, 115, 38.1, 'ALERT', 'AIR', 'unrestricted normal activity', 'Wesley Woods Geriatric Hospital', '1821 CLIFTON ROAD, NE']}, {'E5488': ['Female', 40, 12.0, 0.94, 105.0, 101, 38.1, 'ALERT', 'AIR', 'unrestricted normal activity', 'Select Specialty Hospital - Northeast Atlanta', '1821 CLIFTON ROAD NE']}, {'E8560': ['FEMALE', 40, 23.0, 0.96, 41.0, 115, 35.1, 'confused or not alert', 'AIR', 'unrestricted normal activity', 'Select Specialty Hospital - Northeast Atlanta', '1821 CLIFTON ROAD NE']}, {'E2995': ['FEMALE', 18, 20.0, 0.99, 105.0, 95, 35.1, 'alert', 'AIR', 'unrestricted normal activity', 'Select Specialty Hospital - Northeast Atlanta', '1821 CLIFTON ROAD NE']}, {'E3422': ['FEMALE', 40, 8.0, 0.96, 105.0, 115, 35.4, 'ALERT', 'AIR', 'unrestricted normal activity', 'Select Specialty Hospital - Northeast Atlanta', '1821 CLIFTON ROAD NE']}, {'E7707': ['Female', 18, 20.0, 0.96, 38.0, 115, 36.3, 'ALERT', 'air', 'limited strenuous activity, can do light activity', 'Select Specialty Hospital - Northeast Atlanta', '1821 CLIFTON ROAD NE']}, {'E3119': ['FEMALE', 18, 20.0, 0.99, 135.0, 89, 35.1, 'ALERT', 'supplemental oxygen', 'unrestricted normal activity', 'Select Specialty Hospital - Northeast Atlanta', '1821 CLIFTON ROAD NE']}, {'E1419': ['male', 65, 23.0, 0.99, 105.0, 91, 38.1, 'alert', 'AIR', 'unrestricted normal activity', 'Wesley Woods Geriatric Hospital', '1821 CLIFTON ROAD, NE']}, {'E7748': ['male', 40, 23.0, 0.93, 105.0, 115, 38.1, 'ALERT', 'supplemental oxygen', 'unrestricted normal activity', 'Southwest Hospital and Medical Center', '501 FAIRBURN ROAD SW']}, {'E7251': ['Female', 40, 12.0, 0.96, 105.0, 91, 38.1, 'alert', 'AIR', 'unrestricted normal activity', 'Select Specialty Hospital - Northeast Atlanta', '1821 CLIFTON ROAD NE']}, {'E1235': ['FEMALE', 40, 29.0, 0.96, 41.0, 115, 38.1, 'ALERT', 'AIR', 'bed/chair bound, no self-care', 'Select Specialty Hospital - Northeast Atlanta', '1821 CLIFTON ROAD NE']}, {'E5361': ['FEMALE', 18, 22.0, 0.93, 90.0, 101, 38.1, 'confused or not alert', 'AIR', 'unrestricted normal activity', 'Select Specialty Hospital - Northeast Atlanta', '1821 CLIFTON ROAD NE']}, {'E7130': ['FEMALE', 18, 22.0, 0.96, 50.0, 115, 38.1, 'ALERT', 'AIR', 'limited strenuous activity, can do light activity', 'Select Specialty Hospital - Northeast Atlanta', '1821 CLIFTON ROAD NE']}, {'E5665': ['FEMALE', 85, 23.0, 0.96, 115.0, 115, 38.1, 'ALERT', 'AIR', 'unrestricted normal activity', 'Wesley Woods Geriatric Hospital', '1821 CLIFTON ROAD, NE']}, {'E9957': ['Female', 40, 22.0, 0.98, 89.0, 230, 38.1, 'alert', 'AIR', 'unrestricted normal activity', 'Select Specialty Hospital - Northeast Atlanta', '1821 CLIFTON ROAD NE']}, {'E10000': ['FEMALE', 18, 23.0, 0.96, 105.0, 101, 38.1, 'ALERT', 'AIR', 'limited activity, can self-care', 'Select Specialty Hospital - Northeast Atlanta', '1821 CLIFTON ROAD NE']}]\n"
          ]
        }
      ],
      "source": [
        "import requests\n",
        "\n",
        "def process_people(url):\n",
        "    \"\"\"\n",
        "()    url) -> list\n",
        "\n",
        "    Processes patient data from a pipe-delimited file. It determines the appropriate hospital and its address\n",
        "    based on the risk percentage calculated using the priest function.\n",
        "\n",
        "    Parameters:\n",
        "    - url (str): The URL of the pipe-delimited file.\n",
        "\n",
        "    Returns:\n",
        "    - list: A list of dictionaries, each containing patient details, their assigned hospital, and address.\n",
        "    \"\"\"\n",
        "    try:\n",
        "        # Retrieve the file\n",
        "        response = requests.get(url)\n",
        "        response.raise_for_status()\n",
        "        data = response.text\n",
        "\n",
        "        # Process each line of the file\n",
        "        results = []\n",
        "        lines = data.splitlines()\n",
        "        headers = lines[0].split('|')  # Assuming the first line contains headers\n",
        "        for line in lines[1:]:\n",
        "            values = line.split('|')\n",
        "            patient_info = dict(zip(headers, values))\n",
        "\n",
        "            # Calculate the risk percentage using the priest function\n",
        "            risk_pct = priest(\n",
        "                patient_info['sex'].lower(),\n",
        "                int(patient_info['age']),\n",
        "                float(patient_info['breath']),\n",
        "                float(patient_info['o2 sat']),\n",
        "                int(patient_info['heart']),\n",
        "                int(patient_info['systolic bp']),\n",
        "                float(patient_info['temp']),\n",
        "                patient_info['alertness'],\n",
        "                patient_info['inspired'],\n",
        "                patient_info['status']\n",
        "            )\n",
        "\n",
        "            # Determine the hospital based on the calculated risk percentage\n",
        "            hospital = find_hospital(int(patient_info['age']), patient_info['sex'].lower(), risk_pct)\n",
        "\n",
        "            # Get the address of the hospital\n",
        "            address = get_address(hospital) if hospital else \"Address not found\"\n",
        "\n",
        "            # Compile the results into a dictionary\n",
        "            patient_dict = {\n",
        "                patient_info['patient']: [\n",
        "                    patient_info['sex'], int(patient_info['age']), float(patient_info['breath']),\n",
        "                    float(patient_info['o2 sat']), float(patient_info['heart']), int(patient_info['systolic bp']),\n",
        "                    float(patient_info['temp']), patient_info['alertness'], patient_info['inspired'],\n",
        "                    patient_info['status'], hospital, address\n",
        "                ]\n",
        "            }\n",
        "            results.append(patient_dict)\n",
        "\n",
        "        return results\n",
        "\n",
        "    except Exception as e:\n",
        "        print(f\"An error occurred: {e}\")\n",
        "        return []\n",
        "\n",
        "# Example usage (replace 'url' with the actual file URL)\n",
        "url = \"https://drive.google.com/uc?export=download&id=1fLxJN9YGUqmqExrilxSS8furwUER5HHh\"\n",
        "results = process_people(url)\n",
        "print(results)"
      ]
    },
    {
      "cell_type": "markdown",
      "metadata": {
        "id": "w_JaIwmf3N-Q"
      },
      "source": [
        "## Part 5: Checking your final results\n",
        "\n",
        "The final step is to check your results.  You should be able to compare your results to the output in `people_results.json` at the link below.  Write some code to check your results.  This does not need to be a function.\n",
        "\n",
        "`https://drive.google.com/uc?export=download&id=1gx1SSC20mO5XL6uYD0mdcM_cL91fcIW5`\n"
      ]
    },
    {
      "cell_type": "code",
      "source": [
        "import requests\n",
        "\n",
        "# Function to download and load the expected results\n",
        "def load_expected_results(url):\n",
        "    response = requests.get(url)\n",
        "    if response.status_code == 200:\n",
        "        return response.json()\n",
        "    else:\n",
        "        print(\"Failed to download the expected results\")\n",
        "        return {}\n",
        "\n",
        "# URL for the expected results\n",
        "expected_results_url = \"https://drive.google.com/uc?export=download&id=1gx1SSC20mO5XL6uYD0mdcM_cL91fcIW5\"\n",
        "\n",
        "# Load expected results\n",
        "expected_results = load_expected_results(expected_results_url)\n",
        "\n",
        "# Assuming `results` is your output from the `process_people` function, and it's formatted as a list of dicts\n",
        "# Convert your results into a similar format as the expected results for easier comparison\n",
        "my_results = {list(patient.keys())[0]: list(patient.values())[0] for patient in results}\n",
        "\n",
        "# Function to compare results, focusing on hospital name and address\n",
        "def compare_results(expected, actual):\n",
        "    discrepancies = []\n",
        "    for patient_id, details in expected.items():\n",
        "        if patient_id in actual:\n",
        "            # Extract hospital name and address for comparison\n",
        "            expected_hospital = details[11]\n",
        "            expected_address = details[12]\n",
        "            actual_hospital = actual[patient_id][10]\n",
        "            actual_address = actual[patient_id][11]\n",
        "\n",
        "            # Check if there's a mismatch in hospital name or address\n",
        "            if expected_hospital != actual_hospital or expected_address != actual_address:\n",
        "                discrepancies.append((patient_id, {\n",
        "                    'Expected Hospital': expected_hospital,\n",
        "                    'Actual Hospital': actual_hospital,\n",
        "                    'Expected Address': expected_address,\n",
        "                    'Actual Address': actual_address\n",
        "                }))\n",
        "        else:\n",
        "            discrepancies.append((patient_id, {\n",
        "                'Expected Hospital': details[11],\n",
        "                'Actual Hospital': 'Missing in actual results',\n",
        "                'Expected Address': details[12],\n",
        "                'Actual Address': 'Missing in actual results'\n",
        "            }))\n",
        "    return discrepancies\n",
        "\n",
        "# Perform the comparison\n",
        "discrepancies = compare_results(expected_results, my_results)\n",
        "\n",
        "# Print the discrepancies\n",
        "if discrepancies:\n",
        "    print(\"Discrepancies found:\")\n",
        "    for discrepancy in discrepancies:\n",
        "        print(discrepancy)\n",
        "else:\n",
        "    print(\"All results match perfectly!\")"
      ],
      "metadata": {
        "id": "itTFE2LVCMRp",
        "outputId": "ba224291-9c3e-4122-c9f2-a155a3de9ece",
        "colab": {
          "base_uri": "https://localhost:8080/"
        }
      },
      "execution_count": 38,
      "outputs": [
        {
          "output_type": "stream",
          "name": "stdout",
          "text": [
            "All results match perfectly!\n"
          ]
        }
      ]
    },
    {
      "cell_type": "markdown",
      "metadata": {
        "id": "qHhawCx13N-Q"
      },
      "source": [
        "---\n",
        "\n",
        "## Check your work above\n",
        "\n",
        "If you didn't get them all correct, take a few minutes to think through those that aren't correct.\n",
        "\n",
        "\n",
        "## Submitting Your Work\n",
        "\n",
        "Submit your work as usual into a folder named `midterm`"
      ]
    },
    {
      "cell_type": "markdown",
      "metadata": {
        "id": "78VqbF_D3N-Q"
      },
      "source": [
        "---"
      ]
    }
  ],
  "metadata": {
    "kernelspec": {
      "display_name": "Python 3",
      "language": "python",
      "name": "python3"
    },
    "language_info": {
      "codemirror_mode": {
        "name": "ipython",
        "version": 3
      },
      "file_extension": ".py",
      "mimetype": "text/x-python",
      "name": "python",
      "nbconvert_exporter": "python",
      "pygments_lexer": "ipython3",
      "version": "3.9.6"
    },
    "colab": {
      "provenance": []
    }
  },
  "nbformat": 4,
  "nbformat_minor": 0
}